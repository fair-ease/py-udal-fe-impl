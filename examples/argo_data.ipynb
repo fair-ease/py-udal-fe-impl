{
 "cells": [
  {
   "cell_type": "markdown",
   "metadata": {},
   "source": [
    "# Argo Data Example\n",
    "\n",
    "- Query Name: **urn:fairease.eu:argo:data**\n",
    "- Query parameters: \n",
    "    - parameter (`str | list[str]`)\n",
    "    - startTime (`str`)\n",
    "    - startTime (`str`)\n",
    "    - bounding_box (`dict`)\n",
    "    - longitude (`float`)\n",
    "    - latitude (`float`)\n",
    "- Result Type: `xarray.Dataset`"
   ]
  },
  {
   "cell_type": "markdown",
   "metadata": {},
   "source": [
    "## Configuration\n",
    "\n",
    "The queries fetch data from Blue-Cloud and Beacon in the form of file downloads.\n",
    "These downloads can be large, so we cache them locally. Moreover, these services\n",
    "require authentication via an API token. We set these settings in the UDAL\n",
    "configuration object."
   ]
  },
  {
   "cell_type": "code",
   "execution_count": 1,
   "metadata": {},
   "outputs": [],
   "source": [
    "from pathlib import Path\n",
    "from udal.specification import Config\n",
    "from fairease.udal.udal import UDAL\n",
    "\n",
    "base_data_dir = './data/'\n",
    "config = Config()\n",
    "config.cache_dir = Path(base_data_dir).joinpath('cache')\n",
    "config.api_tokens['blue_cloud'] = '' # TODO\n",
    "config.api_tokens['beacon'] = '' # TODO"
   ]
  },
  {
   "cell_type": "markdown",
   "metadata": {},
   "source": [
    "## Argo Data\n",
    "\n",
    "Argo data can be obtained by querying IDDAS or Beacon. We can therefore create a\n",
    "UDAL object for each of these sources."
   ]
  },
  {
   "cell_type": "code",
   "execution_count": null,
   "metadata": {},
   "outputs": [],
   "source": [
    "udal_beacon = UDAL('https://beacon-argo.maris.nl', config)\n",
    "udal_iddas = UDAL('https://fair-ease-iddas.maris.nl', config)"
   ]
  },
  {
   "cell_type": "markdown",
   "metadata": {},
   "source": [
    "Example queries we can perform:"
   ]
  },
  {
   "cell_type": "code",
   "execution_count": 3,
   "metadata": {},
   "outputs": [],
   "source": [
    "def example1(udal: UDAL):\n",
    "    queryname = 'urn:fairease.eu:argo:data'\n",
    "    queryparams = {\"parameter\": [\"temperature\", \"salinity\"], \"startTime\": \"2011-11-09\", \"endTime\": \"2011-11-20\"}\n",
    "    return udal.execute(queryname, queryparams).data()\n",
    "\n",
    "def example2(udal: UDAL):\n",
    "    queryname = 'urn:fairease.eu:argo:data'\n",
    "    queryparams = {\"parameter\": [\"temperature\", \"salinity\"], \"startTime\": \"2017-01-01\", \"endTime\": \"2017-01-10\", \"longitude\": 95.585, \"latitude\": 8.432}\n",
    "    return udal.execute(queryname, queryparams).data()\n",
    "\n",
    "def example3(udal: UDAL):\n",
    "    queryname = 'urn:fairease.eu:argo:data'\n",
    "    queryparams = {\"parameter\": [\"temperature\", \"salinity\"], \"startTime\": \"2016-09-25\", \"endTime\": \"2016-09-29\", \"bounding_box\": {\"north\": 90, \"east\": 90, \"south\": 0, \"west\": 0}}\n",
    "    return udal.execute(queryname, queryparams).data()"
   ]
  },
  {
   "cell_type": "markdown",
   "metadata": {},
   "source": [
    "These queries are independent of the data source, although the supported query\n",
    "parameters and result values will depend on the data source set for the UDAL\n",
    "object."
   ]
  },
  {
   "cell_type": "markdown",
   "metadata": {},
   "source": [
    "## Beacon"
   ]
  },
  {
   "cell_type": "markdown",
   "metadata": {},
   "source": [
    "Example 1:"
   ]
  },
  {
   "cell_type": "code",
   "execution_count": null,
   "metadata": {},
   "outputs": [],
   "source": [
    "example1(udal_beacon)"
   ]
  },
  {
   "cell_type": "markdown",
   "metadata": {},
   "source": [
    "Example 2:"
   ]
  },
  {
   "cell_type": "code",
   "execution_count": null,
   "metadata": {},
   "outputs": [],
   "source": [
    "example2(udal_beacon)"
   ]
  },
  {
   "cell_type": "markdown",
   "metadata": {},
   "source": [
    "Example 3:"
   ]
  },
  {
   "cell_type": "code",
   "execution_count": null,
   "metadata": {},
   "outputs": [],
   "source": [
    "example3(udal_beacon)"
   ]
  },
  {
   "cell_type": "markdown",
   "metadata": {},
   "source": [
    "## IDDAS"
   ]
  },
  {
   "cell_type": "markdown",
   "metadata": {},
   "source": [
    "Example 1:"
   ]
  },
  {
   "cell_type": "code",
   "execution_count": null,
   "metadata": {},
   "outputs": [],
   "source": [
    "example1(udal_iddas)"
   ]
  },
  {
   "cell_type": "markdown",
   "metadata": {},
   "source": [
    "Example 2:"
   ]
  },
  {
   "cell_type": "code",
   "execution_count": null,
   "metadata": {},
   "outputs": [],
   "source": [
    "example2(udal_iddas)"
   ]
  },
  {
   "cell_type": "markdown",
   "metadata": {},
   "source": [
    "Example 3:"
   ]
  },
  {
   "cell_type": "code",
   "execution_count": null,
   "metadata": {},
   "outputs": [],
   "source": [
    "example3(udal_iddas)"
   ]
  }
 ],
 "metadata": {
  "kernelspec": {
   "display_name": ".venv",
   "language": "python",
   "name": "python3"
  },
  "language_info": {
   "codemirror_mode": {
    "name": "ipython",
    "version": 3
   },
   "file_extension": ".py",
   "mimetype": "text/x-python",
   "name": "python",
   "nbconvert_exporter": "python",
   "pygments_lexer": "ipython3",
   "version": "3.12.3"
  }
 },
 "nbformat": 4,
 "nbformat_minor": 2
}
